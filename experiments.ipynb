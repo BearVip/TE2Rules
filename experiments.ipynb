{
 "cells": [
  {
   "cell_type": "markdown",
   "id": "8cd8139a",
   "metadata": {},
   "source": [
    "# Experiments"
   ]
  },
  {
   "cell_type": "markdown",
   "id": "27a0992e",
   "metadata": {},
   "source": [
    "Last Updated: 04/26/2022"
   ]
  },
  {
   "cell_type": "markdown",
   "id": "1d559654",
   "metadata": {},
   "source": [
    "Evaluating instance-level explanations.\n",
    "Note: we are only mining rules to explain the positive instances.\n",
    "- explainers\n",
    "    - anchor\n",
    "    - TE2Rule\n",
    "- metrics\n",
    "    - precision (positive_support/decision_support)\n",
    "    - recall (positive_support/num_positive_points)\n",
    "    - coverage (decision_support/num_points)\n",
    "    - compute time per instance\n",
    "\n",
    "TODO:\n",
    "- compare against SHAP value"
   ]
  },
  {
   "cell_type": "code",
   "execution_count": 1,
   "id": "b588c260",
   "metadata": {},
   "outputs": [],
   "source": [
    "# 0. Construct TE2Rule and anchor explainers for a trained GBM model\n",
    "# 1. sample n positive instances from the dataset \n",
    "# 2. for each instance, obtain anchor & TE2Rule (rule, computation time)\n",
    "# 3. evaluate precision/recall/coverage at dataset-level\n",
    "# 4. obtain shap value matrix & rule-triggering matrix (num_instances * num_variables)\n",
    "\n",
    "# plot:\n",
    "# TE2 dataset precision vs anchor dataset fidelity per rule\n",
    "# TE2 dataset recall vs anchor dataset fidelity per rule\n",
    "# TE2 dataset coverage vs anchor dataset coverage per rule\n",
    "# compute time of rule-extraction\n",
    "# shap value: triggered variable heatmap vs shap heatmap; similarity score\n",
    "\n",
    "# function: rule-triggering matrix + a shap value matrix ⇒ \n",
    "# rule triggering heatmap comparison, cosine similarity of the two matrics"
   ]
  },
  {
   "cell_type": "code",
   "execution_count": 68,
   "id": "cac582bd",
   "metadata": {},
   "outputs": [],
   "source": [
    "# load packages\n",
    "# pip install anchor-exp\n",
    "from sklearn.ensemble import GradientBoostingClassifier\n",
    "from lib.trainer import Trainer\n",
    "from lib.adapter import ScikitTreeAdapter, ScikitForestAdapter\n",
    "from train import pipeline\n",
    "from sklearn.tree import export_text\n",
    "from lib.rule import Rule\n",
    "import numpy as np\n",
    "import pandas as pd\n",
    "from anchor import utils\n",
    "from anchor import anchor_tabular\n",
    "import matplotlib.pyplot as plt\n",
    "import shap\n",
    "import lime\n",
    "import time"
   ]
  },
  {
   "cell_type": "code",
   "execution_count": 94,
   "id": "16f204b0",
   "metadata": {
    "scrolled": true
   },
   "outputs": [
    {
     "name": "stdout",
     "output_type": "stream",
     "text": [
      "XGBoost Model\n",
      "Accuracy\n",
      "0.8176904176904177\n",
      "AUC\n",
      "0.6160302162448409\n",
      "10 trees\n",
      "\n",
      "Rules from trees\n",
      "\n",
      "150 candidates\n",
      "Merging candidates...\n",
      "74 candidates\n",
      "\n",
      "Running Apriori\n",
      "\n",
      "Stage 0\n",
      "Pruning Candidates\n",
      "\n",
      "23 candidates\n",
      "2 solutions\n",
      "Merging candidates and solutions...\n",
      "23 candidates\n",
      "2 solutions\n",
      "\n",
      "Fidelity\n",
      "Total: 0.9866400491400491, Positive: 0.7772657450076805, Negative: 1.0\n",
      "Unexplained Positives\n",
      "435\n",
      "\n",
      "Stage 1\n",
      "Pruning Candidates\n",
      "\n",
      "112 candidates\n",
      "4 solutions\n",
      "Merging candidates and solutions...\n",
      "65 candidates\n",
      "4 solutions\n",
      "\n",
      "Fidelity\n",
      "Total: 0.9958845208845208, Positive: 0.9313876088069637, Negative: 1.0\n",
      "Unexplained Positives\n",
      "134\n",
      "\n",
      "Stage 2\n",
      "Pruning Candidates\n",
      "\n",
      "143 candidates\n",
      "5 solutions\n",
      "Merging candidates and solutions...\n",
      "75 candidates\n",
      "5 solutions\n",
      "\n",
      "Fidelity\n",
      "Total: 0.9960995085995086, Positive: 0.9349718381976446, Negative: 1.0\n",
      "Unexplained Positives\n",
      "127\n",
      "\n",
      "Stage 3\n",
      "Pruning Candidates\n",
      "\n",
      "0 candidates\n",
      "6 solutions\n",
      "Merging candidates and solutions...\n",
      "0 candidates\n",
      "6 solutions\n",
      "\n",
      "Fidelity\n",
      "Total: 1.0, Positive: 1.0, Negative: 1.0\n",
      "Unexplained Positives\n",
      "0\n",
      "\n",
      "Stage 4\n",
      "Pruning Candidates\n",
      "\n",
      "0 candidates\n",
      "6 solutions\n",
      "Merging candidates and solutions...\n",
      "0 candidates\n",
      "6 solutions\n",
      "\n",
      "Fidelity\n",
      "Total: 1.0, Positive: 1.0, Negative: 1.0\n",
      "Unexplained Positives\n",
      "0\n",
      "\n",
      "Stage 5\n",
      "Pruning Candidates\n",
      "\n",
      "0 candidates\n",
      "6 solutions\n",
      "Merging candidates and solutions...\n",
      "0 candidates\n",
      "6 solutions\n",
      "\n",
      "Fidelity\n",
      "Total: 1.0, Positive: 1.0, Negative: 1.0\n",
      "Unexplained Positives\n",
      "0\n",
      "\n",
      "Stage 6\n",
      "Pruning Candidates\n",
      "\n",
      "0 candidates\n",
      "6 solutions\n",
      "Merging candidates and solutions...\n",
      "0 candidates\n",
      "6 solutions\n",
      "\n",
      "Fidelity\n",
      "Total: 1.0, Positive: 1.0, Negative: 1.0\n",
      "Unexplained Positives\n",
      "0\n",
      "\n",
      "Stage 7\n",
      "Pruning Candidates\n",
      "\n",
      "0 candidates\n",
      "6 solutions\n",
      "Merging candidates and solutions...\n",
      "0 candidates\n",
      "6 solutions\n",
      "\n",
      "Fidelity\n",
      "Total: 1.0, Positive: 1.0, Negative: 1.0\n",
      "Unexplained Positives\n",
      "0\n",
      "\n",
      "Stage 8\n",
      "Pruning Candidates\n",
      "\n",
      "0 candidates\n",
      "6 solutions\n",
      "Merging candidates and solutions...\n",
      "0 candidates\n",
      "6 solutions\n",
      "\n",
      "Fidelity\n",
      "Total: 1.0, Positive: 1.0, Negative: 1.0\n",
      "Unexplained Positives\n",
      "0\n",
      "\n",
      "Stage 9\n",
      "Pruning Candidates\n",
      "\n",
      "0 candidates\n",
      "6 solutions\n",
      "Merging candidates and solutions...\n",
      "0 candidates\n",
      "6 solutions\n",
      "\n",
      "Fidelity\n",
      "Total: 1.0, Positive: 1.0, Negative: 1.0\n",
      "Unexplained Positives\n",
      "0\n",
      "\n",
      "Set Cover\n",
      "\n",
      "Solutions:\n",
      "Rule 1: ['capital_gain > 5095.5', 'marital_status_married > 0.5']\n",
      "Precision: 1.0\n",
      "Recall: 0.6246799795186891\n",
      "Coverage: 0.03746928746928747\n",
      "Cumulative Precision: 1.0\n",
      "Cumulative Recall: 0.6246799795186891\n",
      "Cumulative Coverage: 0.03746928746928747\n",
      "Cumulative Fidelity: \n",
      "Total: 0.977487714987715, Positive: 0.6246799795186891, Negative: 1.0\n",
      "\n",
      "Rule 2: ['age > 20.5', 'capital_gain > 7139.5', 'marital_status_married <= 0.5']\n",
      "Precision: 1.0\n",
      "Recall: 0.1525857654889913\n",
      "Coverage: 0.009152334152334152\n",
      "Cumulative Precision: 1.0\n",
      "Cumulative Recall: 0.7772657450076805\n",
      "Cumulative Coverage: 0.046621621621621624\n",
      "Cumulative Fidelity: \n",
      "Total: 0.9866400491400491, Positive: 0.7772657450076805, Negative: 1.0\n",
      "\n",
      "Rule 3: ['capital_gain <= 5095.5', 'capital_loss > 1793.5', 'education_Bachelors > 0.5', 'marital_status_married > 0.5']\n",
      "Precision: 1.0\n",
      "Recall: 0.10445468509984639\n",
      "Coverage: 0.006265356265356265\n",
      "Cumulative Precision: 1.0\n",
      "Cumulative Recall: 0.8817204301075269\n",
      "Cumulative Coverage: 0.05288697788697789\n",
      "Cumulative Fidelity: \n",
      "Total: 0.9929054054054054, Positive: 0.8817204301075269, Negative: 1.0\n",
      "\n",
      "Rule 4: ['age > 33.5', 'capital_gain <= 5095.5', 'capital_loss > 1793.5', 'education_HS_grad <= 0.5', 'education_School <= 0.5', 'marital_status_married > 0.5', 'occupation_Exec_managerial <= 0.5', 'occupation_Prof_specialty > 0.5']\n",
      "Precision: 1.0\n",
      "Recall: 0.08755760368663594\n",
      "Coverage: 0.005251842751842752\n",
      "Cumulative Precision: 1.0\n",
      "Cumulative Recall: 0.9467485919098823\n",
      "Cumulative Coverage: 0.056787469287469285\n",
      "Cumulative Fidelity: \n",
      "Total: 0.9968058968058968, Positive: 0.9467485919098823, Negative: 1.0\n",
      "\n",
      "Rule 5: ['capital_gain <= 5095.5', 'capital_loss > 1793.5', 'marital_status_married > 0.5', 'occupation_Exec_managerial > 0.5', 'workclass_Self_emp_not_inc <= 0.5']\n",
      "Precision: 1.0\n",
      "Recall: 0.08653353814644137\n",
      "Coverage: 0.00519041769041769\n",
      "Cumulative Precision: 1.0\n",
      "Cumulative Recall: 0.996415770609319\n",
      "Cumulative Coverage: 0.059766584766584765\n",
      "Cumulative Fidelity: \n",
      "Total: 0.9997850122850123, Positive: 0.996415770609319, Negative: 1.0\n",
      "\n",
      "Rule 6: ['capital_gain <= 5095.5', 'capital_loss > 1793.5', 'education_HS_grad <= 0.5', 'education_School <= 0.5', 'marital_status_married > 0.5', 'occupation_Exec_managerial > 0.5']\n",
      "Precision: 1.0\n",
      "Recall: 0.0855094726062468\n",
      "Coverage: 0.005128992628992629\n",
      "Cumulative Precision: 1.0\n",
      "Cumulative Recall: 1.0\n",
      "Cumulative Coverage: 0.05998157248157248\n",
      "Cumulative Fidelity: \n",
      "Total: 1.0, Positive: 1.0, Negative: 1.0\n",
      "\n",
      "\n",
      "10 trees\n",
      "6 solutions\n",
      "Fidelity\n",
      "Total: 1.0, Positive: 1.0, Negative: 1.0\n"
     ]
    },
    {
     "name": "stderr",
     "output_type": "stream",
     "text": [
      "Creating an ndarray from ragged nested sequences (which is a list-or-tuple of lists-or-tuples-or ndarrays with different lengths or shapes) is deprecated. If you meant to do this, you must specify 'dtype=object' when creating the ndarray.\n"
     ]
    }
   ],
   "source": [
    "# 0. Construct TE2Rule and anchor explainers for a trained GBM model\n",
    "# Obtain TE2Rule Global rules\n",
    "solutions, trainer, te2_rule_precision_list, te2_rule_recall_list, te2_rule_coverage_list = pipeline(\n",
    "    training_data_path=\"data/train.csv\", \n",
    "    testing_data_path=\"data/test.csv\", \n",
    "    num_estimators=10,\n",
    "    fidelity_threshold=1\n",
    ")\n",
    "\n",
    "te2_global_rule_list = np.array([s.decision_rule for s in solutions])\n",
    "\n",
    "df = pd.DataFrame(trainer.x_train, columns=trainer.feature_names)\n",
    "df['y_pred'] = trainer.model.predict(trainer.x_train)\n",
    "\n",
    "# construct anchor explainer\n",
    "anchor_explainer = anchor_tabular.AnchorTabularExplainer(\n",
    "    class_names=['negative', 'positive'],\n",
    "    feature_names=trainer.feature_names,\n",
    "    train_data=trainer.x_train,\n",
    "    categorical_names={}\n",
    ")"
   ]
  },
  {
   "cell_type": "code",
   "execution_count": null,
   "id": "54857c18",
   "metadata": {
    "scrolled": true
   },
   "outputs": [],
   "source": [
    "# 1. sample n positive instances from the dataset\n",
    "sample_df = df[df.y_pred==True].sample(10, random_state=0)\n",
    "explained_te2_instance_indices = []\n",
    "te2_rule_list, anchor_rule_list = [], []\n",
    "te2_time_list, anchor_time_list = [], []\n",
    "te2_precision_list, anchor_precision_list = [], []\n",
    "te2_recall_list, anchor_recall_list = [], []\n",
    "te2_coverage_list, anchor_coverage_list = [], []\n",
    "\n",
    "for i in sample_df.index:\n",
    "    # 2. for each instance, obtain anchor & TE2Rule (rule, computation time)\n",
    "    # te2rule\n",
    "    valid_instance = False\n",
    "    start_time = time.time()\n",
    "    for j in range(len(te2_global_rule_list)):\n",
    "        te2_rule = te2_global_rule_list[j]\n",
    "        if len(sample_df.loc[[i]].query(\" & \".join(te2_rule), engine='python')) > 0: # if rule predicates match instance\n",
    "            te2_time_list.append(time.time() - start_time)\n",
    "            te2_rule_list.append(te2_rule)\n",
    "            valid_instance = True\n",
    "            break\n",
    "    # if TE2Rule does not find a rule for the instance, go to the next instance\n",
    "    if not valid_instance:\n",
    "        print(\"No rule found for this instance \", i)\n",
    "        continue\n",
    "    explained_te2_instance_indices.append(i)\n",
    "   \n",
    "    # anchor\n",
    "    start_time = time.time()\n",
    "    anchor_rule = anchor_explainer.explain_instance(\n",
    "        trainer.x_train[i], trainer.model.predict, threshold=0.95, batch_size=100).names()\n",
    "    anchor_rule_list.append(anchor_rule)\n",
    "    anchor_time_list.append(time.time() - start_time)\n",
    "    \n",
    "    \n",
    "    # 3. evaluate precision/recall/coverage at dataset-level\n",
    "    # for te2, we only need to extract the result from the memoized lists\n",
    "    te2_precision_list.append(te2_rule_precision_list[j])\n",
    "    te2_recall_list.append(te2_rule_recall_list[j])\n",
    "    te2_coverage_list.append(te2_rule_coverage_list[j])\n",
    "    \n",
    "    # for anchor, we need to query the dataset based on the rule\n",
    "    anchor_rule_support = len(df.query(\" & \".join(anchor_rule), engine='python'))\n",
    "    anchor_rule_positive_support = len(df.query(\" & \".join(anchor_rule), engine='python').query('y_pred > 0'))\n",
    "    anchor_precision_list.append(anchor_rule_positive_support/anchor_rule_support)\n",
    "    anchor_recall_list.append(anchor_rule_positive_support/sum(df.y_pred))\n",
    "    anchor_coverage_list.append(anchor_rule_support/len(df))\n"
   ]
  },
  {
   "cell_type": "code",
   "execution_count": null,
   "id": "dbd165e2",
   "metadata": {},
   "outputs": [],
   "source": [
    "# 4. obtain shap value matrix & rule-triggering matrix (num_instances * num_variables)\n",
    "def rules_features_saliency(rules, feature_names):\n",
    "    saliency = pd.DataFrame(np.zeros([len(rules), len(feature_names)]), columns=feature_names)\n",
    "    for i in range(len(rules)):\n",
    "        r_str = \" & \".join(rules[i])\n",
    "        for f in feature_names:\n",
    "            if f in r_str:\n",
    "                saliency.loc[i,f] = 1\n",
    "    return saliency\n",
    "\n",
    "shap_explainer = shap.TreeExplainer(trainer.model)\n",
    "shap_values = shap_explainer.shap_values(sample_df.loc[explained_te2_instance_indices, :].iloc[:,:-1])\n",
    "te2_rule_triggering_list = rules_features_saliency(te2_rule_list, trainer.feature_names)\n",
    "anchor_rule_triggering_list = rules_features_saliency(anchor_rule_list, trainer.feature_names)\n",
    "\n",
    "print(\"Avg shap value of the variables chosen by te2 rule: \", \n",
    "      (shap_values * te2_rule_triggering_list).mean(1).mean())\n",
    "print(\"Avg shap value of the variables chosen by anchor rule: \", \n",
    "      (shap_values * anchor_rule_triggering_list).mean(1).mean())"
   ]
  },
  {
   "cell_type": "code",
   "execution_count": 77,
   "id": "b08aaabd",
   "metadata": {},
   "outputs": [
    {
     "data": {
      "text/plain": [
       "(0.0, 40.0)"
      ]
     },
     "execution_count": 77,
     "metadata": {},
     "output_type": "execute_result"
    },
    {
     "data": {
      "image/png": "[encoded data removed]",
      "text/plain": [
       "<Figure size 432x288 with 1 Axes>"
      ]
     },
     "metadata": {
      "needs_background": "light"
     },
     "output_type": "display_data"
    }
   ],
   "source": [
    "# plot\n",
    "plt.scatter(anchor_time_list, te2_time_list, s=10)\n",
    "plt.xlabel(\"anchor\")\n",
    "plt.ylabel(\"te2\")\n",
    "plt.title(\"Runtime per rule\")\n",
    "plt.xlim([0, 40])\n",
    "plt.ylim([0, 40])"
   ]
  },
  {
   "cell_type": "code",
   "execution_count": 78,
   "id": "7586b926",
   "metadata": {},
   "outputs": [
    {
     "data": {
      "text/plain": [
       "(0.65, 1.02)"
      ]
     },
     "execution_count": 78,
     "metadata": {},
     "output_type": "execute_result"
    },
    {
     "data": {
      "image/png": "[encoded data removed]",
      "text/plain": [
       "<Figure size 432x288 with 1 Axes>"
      ]
     },
     "metadata": {
      "needs_background": "light"
     },
     "output_type": "display_data"
    }
   ],
   "source": [
    "# plot\n",
    "plt.scatter(anchor_precision_list, te2_precision_list, s=10)\n",
    "plt.xlabel(\"anchor\")\n",
    "plt.ylabel(\"te2\")\n",
    "plt.title(\"Precision per rule\")\n",
    "plt.xlim([0.65, 1.02])\n",
    "plt.ylim([0.65, 1.02])"
   ]
  },
  {
   "cell_type": "code",
   "execution_count": 79,
   "id": "c634d915",
   "metadata": {
    "scrolled": true
   },
   "outputs": [
    {
     "data": {
      "text/plain": [
       "(0.0, 0.66)"
      ]
     },
     "execution_count": 79,
     "metadata": {},
     "output_type": "execute_result"
    },
    {
     "data": {
      "image/png": "[encoded data removed]",
      "text/plain": [
       "<Figure size 432x288 with 1 Axes>"
      ]
     },
     "metadata": {
      "needs_background": "light"
     },
     "output_type": "display_data"
    }
   ],
   "source": [
    "# plot\n",
    "plt.scatter(anchor_recall_list, te2_recall_list, s=10)\n",
    "plt.xlabel(\"anchor\")\n",
    "plt.ylabel(\"te2\")\n",
    "plt.title(\"Recall per rule\")\n",
    "plt.xlim([0.0, 0.66])\n",
    "plt.ylim([0.0, 0.66])"
   ]
  },
  {
   "cell_type": "code",
   "execution_count": 80,
   "id": "01008c6f",
   "metadata": {},
   "outputs": [
    {
     "data": {
      "text/plain": [
       "(0.0, 0.05)"
      ]
     },
     "execution_count": 80,
     "metadata": {},
     "output_type": "execute_result"
    },
    {
     "data": {
      "image/png": "[encoded data removed]",
      "text/plain": [
       "<Figure size 432x288 with 1 Axes>"
      ]
     },
     "metadata": {
      "needs_background": "light"
     },
     "output_type": "display_data"
    }
   ],
   "source": [
    "# plot\n",
    "plt.scatter(anchor_coverage_list, te2_coverage_list, s=10)\n",
    "plt.xlabel(\"anchor\")\n",
    "plt.ylabel(\"te2\")\n",
    "plt.title(\"Coverage per rule\")\n",
    "plt.xlim([0.0, 0.05])\n",
    "plt.ylim([0.0, 0.05])"
   ]
  }
 ],
 "metadata": {
  "kernelspec": {
   "display_name": "Python 3 (ipykernel)",
   "language": "python",
   "name": "python3"
  },
  "language_info": {
   "codemirror_mode": {
    "name": "ipython",
    "version": 3
   },
   "file_extension": ".py",
   "mimetype": "text/x-python",
   "name": "python",
   "nbconvert_exporter": "python",
   "pygments_lexer": "ipython3",
   "version": "3.9.7"
  }
 },
 "nbformat": 4,
 "nbformat_minor": 5
}
